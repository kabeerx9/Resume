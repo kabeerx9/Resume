{
 "cells": [
  {
   "cell_type": "code",
   "execution_count": 4,
   "metadata": {},
   "outputs": [
    {
     "name": "stdout",
     "output_type": "stream",
     "text": [
      "The Value of q is :23\n",
      "The Value of a is :9\n",
      "The Private Key a for Alice is :4\n",
      "The Private Key b for Bob is :3\n",
      "Secret key for the Alice is : 9\n",
      "Secret Key for the Bob is : 9\n"
     ]
    }
   ],
   "source": [
    "from random import randint\n",
    "\n",
    "\n",
    "\n",
    "# Both the persons will be agreed upon the\n",
    "# public keys a and q\n",
    "# A prime number q is taken\n",
    "q = 23\n",
    "\n",
    "# A primitive root for P, G is taken\n",
    "a = 9\n",
    "\n",
    "\n",
    "print('The Value of q is :%d'%(q))\n",
    "print('The Value of a is :%d'%(a))\n",
    "\n",
    "# Alice will choose the private key xa\n",
    "xa = 4\n",
    "print('The Private Key a for Alice is :%d'%(xa))\n",
    "\n",
    "# gets the generated key\n",
    "ya = int(pow(a,xa,q))\n",
    "\n",
    "# Bob will choose the private key b\n",
    "xb = 3\n",
    "print('The Private Key b for Bob is :%d'%(xb))\n",
    "\n",
    "# gets the generated key\n",
    "yb = int(pow(a,xb,q))\n",
    "\n",
    "\n",
    "# Secret key for Alice\n",
    "ka = int(pow(ya,xb,q))\n",
    "\n",
    "# Secret key for Bob\n",
    "kb = int(pow(yb,xa,q))\n",
    "\n",
    "print('Secret key for the Alice is : %d'%(ka))\n",
    "print('Secret Key for the Bob is : %d'%(kb))\n"
   ]
  },
  {
   "attachments": {},
   "cell_type": "markdown",
   "metadata": {},
   "source": [
    "CAESAR CIPHER "
   ]
  },
  {
   "cell_type": "code",
   "execution_count": 23,
   "metadata": {},
   "outputs": [
    {
     "name": "stdout",
     "output_type": "stream",
     "text": [
      "Plain txt : CEASER CIPHER EXAMPLE\n",
      "Shift pattern : 4\n",
      "Cipher: HJFXJWsHNUMJWsJCFRUQJ\n"
     ]
    }
   ],
   "source": [
    "def encypt_func(txt, s):  \n",
    "    result = \"\"  \n",
    "  \n",
    "  \n",
    "# transverse the plain txt  \n",
    "    for i in range(len(txt)):  \n",
    "        char = txt[i]  \n",
    "        # encypt_func uppercase characters in plain txt  \n",
    "  \n",
    "        if (char.isupper()):  \n",
    "            result += chr((ord(char) + s - 64) % 26 + 65)  \n",
    "        # encypt_func lowercase characters in plain txt  \n",
    "        else:  \n",
    "            result += chr((ord(char) + s - 96) % 26 + 97)  \n",
    "    return result  \n",
    "# check the above function  \n",
    "txt = \"CEASER CIPHER EXAMPLE\"  \n",
    "s = 4  \n",
    "  \n",
    "print(\"Plain txt : \" + txt)  \n",
    "print(\"Shift pattern : \" + str(s))  \n",
    "print(\"Cipher: \" + encypt_func(txt, s))  "
   ]
  },
  {
   "attachments": {},
   "cell_type": "markdown",
   "metadata": {},
   "source": [
    "RSA SIGNATURE "
   ]
  },
  {
   "cell_type": "code",
   "execution_count": 24,
   "metadata": {},
   "outputs": [
    {
     "name": "stdout",
     "output_type": "stream",
     "text": [
      "decryption key is:  160009\n",
      "As M = M1, Accept the\tmessage sent by Alice\n"
     ]
    }
   ],
   "source": [
    "# Function to find gcd\n",
    "# of two numbers\n",
    "def euclid(m, n):\n",
    "\t\n",
    "\tif n == 0:\n",
    "\t\treturn m\n",
    "\telse:\n",
    "\t\tr = m % n\n",
    "\t\treturn euclid(n, r)\n",
    "\t\n",
    "\t\n",
    "# Program to find\n",
    "# Multiplicative inverse\n",
    "def exteuclid(a, b):\n",
    "\t\n",
    "\tr1 = a\n",
    "\tr2 = b\n",
    "\ts1 = int(1)\n",
    "\ts2 = int(0)\n",
    "\tt1 = int(0)\n",
    "\tt2 = int(1)\n",
    "\t\n",
    "\twhile r2 > 0:\n",
    "\t\t\n",
    "\t\tq = r1//r2\n",
    "\t\tr = r1-q * r2\n",
    "\t\tr1 = r2\n",
    "\t\tr2 = r\n",
    "\t\ts = s1-q * s2\n",
    "\t\ts1 = s2\n",
    "\t\ts2 = s\n",
    "\t\tt = t1-q * t2\n",
    "\t\tt1 = t2\n",
    "\t\tt2 = t\n",
    "\t\t\n",
    "\tif t1 < 0:\n",
    "\t\tt1 = t1 % a\n",
    "\t\t\n",
    "\treturn (r1, t1)\n",
    "\n",
    "# Enter two large prime\n",
    "# numbers p and q\n",
    "p = 823\n",
    "q = 953\n",
    "n = p * q\n",
    "Pn = (p-1)*(q-1)\n",
    "\n",
    "# Generate encryption key\n",
    "# in range 1<e<Pn\n",
    "key = []\n",
    "\n",
    "for i in range(2, Pn):\n",
    "\t\n",
    "\tgcd = euclid(Pn, i)\n",
    "\t\n",
    "\tif gcd == 1:\n",
    "\t\tkey.append(i)\n",
    "\n",
    "\n",
    "# Select an encryption key\n",
    "# from the above list\n",
    "e = int(313)\n",
    "\n",
    "# Obtain inverse of\n",
    "# encryption key in Z_Pn\n",
    "r, d = exteuclid(Pn, e)\n",
    "if r == 1:\n",
    "\td = int(d)\n",
    "\tprint(\"decryption key is: \", d)\n",
    "\t\n",
    "else:\n",
    "\tprint(\"Multiplicative inverse for\\\n",
    "\tthe given encryption key does not \\\n",
    "\texist. Choose a different encryption key \")\n",
    "\n",
    "\n",
    "# Enter the message to be sent\n",
    "M = 19070\n",
    "\n",
    "# Signature is created by Alice\n",
    "S = (M**d) % n\n",
    "\n",
    "# Alice sends M and S both to Bob\n",
    "# Bob generates message M1 using the\n",
    "# signature S, Alice's public key e\n",
    "# and product n.\n",
    "M1 = (S**e) % n\n",
    "\n",
    "# If M = M1 only then Bob accepts\n",
    "# the message sent by Alice.\n",
    "\n",
    "if M == M1:\n",
    "\tprint(\"As M = M1, Accept the\\\n",
    "\tmessage sent by Alice\")\n",
    "else:\n",
    "\tprint(\"As M not equal to M1,\\\n",
    "\tDo not accept the message\\\n",
    "\tsent by Alice \")\n"
   ]
  },
  {
   "attachments": {},
   "cell_type": "markdown",
   "metadata": {},
   "source": [
    "RSA"
   ]
  },
  {
   "cell_type": "code",
   "execution_count": 6,
   "metadata": {},
   "outputs": [
    {
     "name": "stdout",
     "output_type": "stream",
     "text": [
      "Public Key: (  43 ,  77 )\n",
      "Private Key: (  7 ,  77 )\n",
      "Generated random number:  28\n",
      "Ciphertext C:  7\n",
      "Plain text:  28\n"
     ]
    }
   ],
   "source": [
    "import random\n",
    "def GCD(x, y):\n",
    "    while(y):\n",
    "       x, y = y, x % y\n",
    "    return abs(x)\n",
    "\n",
    "p, q = 7, 11\n",
    "\n",
    "n = p * q # 77\n",
    "phiN = (p - 1) * (q - 1) # 60\n",
    "\n",
    "# e = 7 # 1<e<phiN and gcd(e. phiN) = 1\n",
    "\n",
    "while True:\n",
    "    e = random.randint(2, phiN)\n",
    "    if GCD(e, phiN) == 1:\n",
    "        break\n",
    "\n",
    "for d in range(1, phiN + 1, 1):\n",
    "    if (e * d) % phiN == 1:\n",
    "        break\n",
    "\n",
    "print(\"Public Key: ( \", e, \", \", n, \")\")\n",
    "print(\"Private Key: ( \", d, \", \", n, \")\")\n",
    "\n",
    "# M = 9\n",
    "M = random.randint(2, n)\n",
    "print(\"Generated random number: \", M)\n",
    "\n",
    "# Cipher\n",
    "C = (M ** e) % n\n",
    "print(\"Ciphertext C: \", C)\n",
    "\n",
    "# Plain\n",
    "plain = (C ** d) % n\n",
    "print(\"Plain text: \",plain)"
   ]
  },
  {
   "cell_type": "code",
   "execution_count": null,
   "metadata": {},
   "outputs": [],
   "source": []
  }
 ],
 "metadata": {
  "kernelspec": {
   "display_name": "Python 3",
   "language": "python",
   "name": "python3"
  },
  "language_info": {
   "codemirror_mode": {
    "name": "ipython",
    "version": 3
   },
   "file_extension": ".py",
   "mimetype": "text/x-python",
   "name": "python",
   "nbconvert_exporter": "python",
   "pygments_lexer": "ipython3",
   "version": "3.9.13"
  },
  "orig_nbformat": 4
 },
 "nbformat": 4,
 "nbformat_minor": 2
}
